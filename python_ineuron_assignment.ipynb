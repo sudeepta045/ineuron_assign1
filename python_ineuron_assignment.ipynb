{
 "cells": [
  {
   "cell_type": "markdown",
   "metadata": {},
   "source": [
    "                                           TASK-1\n",
    "\n",
    "1. Write a program which will find all such numbers which are divisible by 7 but are not a multiple\n",
    "   of 5, between 2000 and 3200 (both included). The numbers obtained should be printed in a\n",
    "   comma-separated sequence on a single line."
   ]
  },
  {
   "cell_type": "code",
   "execution_count": 2,
   "metadata": {},
   "outputs": [
    {
     "name": "stdout",
     "output_type": "stream",
     "text": [
      "2030,2065,2100,2135,2170,2205,2240,2275,2310,2345,2380,2415,2450,2485,2520,2555,2590,2625,2660,2695,2730,2765,2800,2835,2870,2905,2940,2975,3010,3045,3080,3115,3150,3185\n"
     ]
    }
   ],
   "source": [
    "m = []\n",
    "for i in range(2000,3201):\n",
    "    if (i % 7 == 0) and (i % 5 == 0):\n",
    "        m.append(str(i))\n",
    "print (',' . join(m))"
   ]
  },
  {
   "cell_type": "markdown",
   "metadata": {},
   "source": [
    "2. Write a Python program to accept the user's first and last name and then getting them printed in\n",
    "   the the reverse order with a space between first name and last name."
   ]
  },
  {
   "cell_type": "code",
   "execution_count": 1,
   "metadata": {},
   "outputs": [
    {
     "name": "stdout",
     "output_type": "stream",
     "text": [
      "Enter the First name:jini\n",
      "Enter the Last name:satapathy\n",
      "satapathy jini\n"
     ]
    }
   ],
   "source": [
    "a= input(\"Enter the First name:\")\n",
    "b= input(\"Enter the Last name:\")\n",
    "print(b+ ' '+ a)"
   ]
  },
  {
   "cell_type": "markdown",
   "metadata": {},
   "source": [
    "3. Write a Python program to find the volume of a sphere with diameter 12 cm.\n",
    "   Formula: V=4/3 * π * r^3"
   ]
  },
  {
   "cell_type": "code",
   "execution_count": 2,
   "metadata": {},
   "outputs": [
    {
     "name": "stdout",
     "output_type": "stream",
     "text": [
      "The volume of the sphere is: 905.142857142857\n"
     ]
    }
   ],
   "source": [
    "pi = 3.142857142857143\n",
    "r = 6.0\n",
    "v = 4.0/3.0 * pi * r**3\n",
    "print(\"The volume of the sphere is:\",v)"
   ]
  },
  {
   "cell_type": "markdown",
   "metadata": {},
   "source": [
    "                                            TASK-2\n",
    "   \n",
    " 1. Write a program which accepts a sequence of comma-separated numbers from console and\n",
    "    generate a list.\n"
   ]
  },
  {
   "cell_type": "code",
   "execution_count": 3,
   "metadata": {},
   "outputs": [
    {
     "name": "stdout",
     "output_type": "stream",
     "text": [
      "Input some comma seprated numbers : 3,5,6,7,8\n",
      "List :  ['3', '5', '6', '7', '8']\n"
     ]
    }
   ],
   "source": [
    "m = input(\"Input some comma seprated numbers : \")\n",
    "list = m.split(\",\")\n",
    "print('List : ',list)"
   ]
  },
  {
   "cell_type": "raw",
   "metadata": {},
   "source": [
    "# 2. Create the below pattern using nested for loop in Python.\n",
    "\n",
    "\n",
    "*\n",
    "* *\n",
    "* * *\n",
    "* * * *\n",
    "* * * * *\n",
    "* * * *\n",
    "* * *\n",
    "* *\n",
    "*\n"
   ]
  },
  {
   "cell_type": "code",
   "execution_count": 4,
   "metadata": {},
   "outputs": [
    {
     "name": "stdout",
     "output_type": "stream",
     "text": [
      "*              \n",
      "*  *           \n",
      "*  *  *        \n",
      "*  *  *  *     \n",
      "*  *  *  *  *  \n",
      "*  *  *  *  \n",
      "*  *  *     \n",
      "*  *        \n",
      "*           \n"
     ]
    }
   ],
   "source": [
    "for i in range(0,5):\n",
    "    for j in range(0,5):\n",
    "        if j<=i:\n",
    "            print(\"*\", end='  ') \n",
    "        else:\n",
    "            print(\" \",end='  ')\n",
    "    print() \n",
    "    \n",
    "for i in range(0,4):\n",
    "    for j in range(0,4):\n",
    "        if j<=3-i:\n",
    "            print(\"*\", end='  ') \n",
    "        else:\n",
    "            print(\" \",end='  ')\n",
    "    print()\n"
   ]
  },
  {
   "cell_type": "markdown",
   "metadata": {},
   "source": [
    "3. Write a Python program to reverse a word after accepting the input from the user.\n",
    "   Sample Output:\n",
    "   Input word: AcadGild\n",
    "   Output: dilGdacA"
   ]
  },
  {
   "cell_type": "code",
   "execution_count": 5,
   "metadata": {},
   "outputs": [
    {
     "name": "stdout",
     "output_type": "stream",
     "text": [
      "Input from the user : gladiator\n",
      "rotaidalg\n",
      "\n"
     ]
    }
   ],
   "source": [
    "m = input(\"Input from the user : \")\n",
    "\n",
    "for i in range(len(m) -1,-1,-1):\n",
    "    print(m[i], end=\"\")\n",
    "print(\"\\n\")"
   ]
  },
  {
   "cell_type": "markdown",
   "metadata": {},
   "source": [
    "4. Write a Python Program to print the given string in the format specified in the sample output.\n",
    "   \n",
    "   WE, THE PEOPLE OF INDIA, having solemnly resolved to constitute India into a\n",
    "   SOVEREIGN, SOCIALIST, SECULAR, DEMOCRATIC REPUBLIC and to secure to all\n",
    "   its citizens\n",
    "   \n",
    "   \n",
    "      Sample Output:\n",
    "                 WE, THE PEOPLE OF INDIA,\n",
    "                      having solemnly resolved to constitute India into a SOVEREIGN, !\n",
    "                             SOCIALIST, SECULAR, DEMOCRATIC REPUBLIC\n",
    "                             and to secure to all its citizens\n"
   ]
  },
  {
   "cell_type": "code",
   "execution_count": 6,
   "metadata": {},
   "outputs": [
    {
     "name": "stdout",
     "output_type": "stream",
     "text": [
      "WE, THE PEOPLE OF INDIA, \n",
      "\thaving solemnly resolved to constitute India into a SOVEREIGN, ! \n",
      "\t\tSOCIALIST, SECULAR, DEMOCRATIC REPUBLIC \n",
      "\t\tand to secure to all its citizens\n"
     ]
    }
   ],
   "source": [
    "print(\"WE, THE PEOPLE OF INDIA, \\n\\thaving solemnly resolved to constitute India into a SOVEREIGN, ! \\n\\t\\tSOCIALIST, SECULAR, DEMOCRATIC REPUBLIC \\n\\t\\tand to secure to all its citizens\")\n",
    "\n",
    "#here \\t is a tab and \\n is going to new line (\\)character is used to escape characters\n",
    "#https://www.pitt.edu/~naraehan/python2/tutorial7.html#:~:text=In%20Python%20strings%2C%20the%20backslash,r%22%20is%20a%20carriage%20return. "
   ]
  }
 ],
 "metadata": {
  "kernelspec": {
   "display_name": "Python 3",
   "language": "python",
   "name": "python3"
  },
  "language_info": {
   "codemirror_mode": {
    "name": "ipython",
    "version": 3
   },
   "file_extension": ".py",
   "mimetype": "text/x-python",
   "name": "python",
   "nbconvert_exporter": "python",
   "pygments_lexer": "ipython3",
   "version": "3.6.5"
  }
 },
 "nbformat": 4,
 "nbformat_minor": 2
}
